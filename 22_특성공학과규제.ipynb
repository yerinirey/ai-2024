{
 "cells": [
  {
   "cell_type": "markdown",
   "id": "6c2199e5-330b-421c-95ae-d21149efa0e2",
   "metadata": {},
   "source": [
    "**강의목표**  \n",
    "다중회귀에 대해 배운다.  \n",
    "과대적합을 막기 위한 **릿지와 라쏘** 회귀"
   ]
  },
  {
   "cell_type": "markdown",
   "id": "8b5a45e1-b194-4a44-a3a2-da11b0aad5ab",
   "metadata": {},
   "source": [
    "#### 다중회귀"
   ]
  },
  {
   "cell_type": "markdown",
   "id": "127698bc-9c07-4430-b2e5-11d3c56733a1",
   "metadata": {},
   "source": [
    "여러개의 특성을 사용한 선형회귀(길이, 높이, 두께 등)  \n",
    "특성이 여러개일 경우 시각적으로 표현하기 어렵다. ( 2개인 경우, 3차원 공간 (특1 * 특2 * 타깃)"
   ]
  },
  {
   "cell_type": "markdown",
   "id": "d9b90593-daea-4ded-9b57-f1d644ba3f14",
   "metadata": {},
   "source": [
    "#### 특성공학\n",
    "도메인 지식을 이용해 특성을 선택, 수정, 만드는 작업  \n",
    "ex: 농어 길이 제곱항 ( 이전에 시도함.) , 농어길이 * 농어높이\n"
   ]
  },
  {
   "cell_type": "code",
   "execution_count": 1,
   "id": "7ce8ee7c-f6a6-4095-897a-60244fe52c2b",
   "metadata": {},
   "outputs": [
    {
     "name": "stdout",
     "output_type": "stream",
     "text": [
      "2.2.3\n"
     ]
    }
   ],
   "source": [
    "import pandas as pd\n",
    "print(pd.__version__)"
   ]
  },
  {
   "cell_type": "code",
   "execution_count": 3,
   "id": "b4fd8a83-6e08-4190-adc7-d32e6c972e44",
   "metadata": {},
   "outputs": [
    {
     "name": "stdout",
     "output_type": "stream",
     "text": [
      "[[ 8.4   2.11  1.41]\n",
      " [13.7   3.53  2.  ]\n",
      " [15.    3.82  2.43]\n",
      " [16.2   4.59  2.63]\n",
      " [17.4   4.59  2.94]\n",
      " [18.    5.22  3.32]\n",
      " [18.7   5.2   3.12]\n",
      " [19.    5.64  3.05]\n",
      " [19.6   5.14  3.04]\n",
      " [20.    5.08  2.77]\n",
      " [21.    5.69  3.56]\n",
      " [21.    5.92  3.31]\n",
      " [21.    5.69  3.67]\n",
      " [21.3   6.38  3.53]\n",
      " [22.    6.11  3.41]\n",
      " [22.    5.64  3.52]\n",
      " [22.    6.11  3.52]\n",
      " [22.    5.88  3.52]\n",
      " [22.    5.52  4.  ]\n",
      " [22.5   5.86  3.62]\n",
      " [22.5   6.79  3.62]\n",
      " [22.7   5.95  3.63]\n",
      " [23.    5.22  3.63]\n",
      " [23.5   6.28  3.72]\n",
      " [24.    7.29  3.72]\n",
      " [24.    6.38  3.82]\n",
      " [24.6   6.73  4.17]\n",
      " [25.    6.44  3.68]\n",
      " [25.6   6.56  4.24]\n",
      " [26.5   7.17  4.14]\n",
      " [27.3   8.32  5.14]\n",
      " [27.5   7.17  4.34]\n",
      " [27.5   7.05  4.34]\n",
      " [27.5   7.28  4.57]\n",
      " [28.    7.82  4.2 ]\n",
      " [28.7   7.59  4.64]\n",
      " [30.    7.62  4.77]\n",
      " [32.8  10.03  6.02]\n",
      " [34.5  10.26  6.39]\n",
      " [35.   11.49  7.8 ]\n",
      " [36.5  10.88  6.86]\n",
      " [36.   10.61  6.74]\n",
      " [37.   10.84  6.26]\n",
      " [37.   10.57  6.37]\n",
      " [39.   11.14  7.49]\n",
      " [39.   11.14  6.  ]\n",
      " [39.   12.43  7.35]\n",
      " [40.   11.93  7.11]\n",
      " [40.   11.73  7.22]\n",
      " [40.   12.38  7.46]\n",
      " [40.   11.14  6.63]\n",
      " [42.   12.8   6.87]\n",
      " [43.   11.93  7.28]\n",
      " [43.   12.51  7.42]\n",
      " [43.5  12.6   8.14]\n",
      " [44.   12.49  7.6 ]]\n"
     ]
    }
   ],
   "source": [
    "df = pd.read_csv('https://bit.ly/perch_csv')\n",
    "perch_full = df.to_numpy()\n",
    "print(perch_full)"
   ]
  },
  {
   "cell_type": "code",
   "execution_count": 4,
   "id": "c021293a-7061-4d75-9a0e-a82a80f3b0cb",
   "metadata": {},
   "outputs": [],
   "source": [
    "import numpy as np\n",
    "\n",
    "#타깃데이터\n",
    "perch_weight = np.array([5.9, 32.0, 40.0, 51.5, 70.0, 100.0, 78.0, 80.0, 85.0, 85.0, 110.0,\n",
    "       115.0, 125.0, 130.0, 120.0, 120.0, 130.0, 135.0, 110.0, 130.0,\n",
    "       150.0, 145.0, 150.0, 170.0, 225.0, 145.0, 188.0, 180.0, 197.0,\n",
    "       218.0, 300.0, 260.0, 265.0, 250.0, 250.0, 300.0, 320.0, 514.0,\n",
    "       556.0, 840.0, 685.0, 700.0, 700.0, 690.0, 900.0, 650.0, 820.0,\n",
    "       850.0, 900.0, 1015.0, 820.0, 1100.0, 1000.0, 1100.0, 1000.0,\n",
    "       1000.0])"
   ]
  },
  {
   "cell_type": "code",
   "execution_count": 5,
   "id": "f4babdee-9f04-408a-b1de-08f643e171c7",
   "metadata": {},
   "outputs": [],
   "source": [
    "from sklearn.model_selection import train_test_split\n",
    "\n",
    "train_input, test_input, train_target, test_target = train_test_split(perch_full, perch_weight, random_state = 42)"
   ]
  },
  {
   "cell_type": "markdown",
   "id": "c3ce72bc-0846-4d29-b103-5cc99e7f0130",
   "metadata": {},
   "source": [
    "fit(): 준비 작업 수행  \n",
    "transform(): 실제로 변환  \n",
    "\n",
    "fit_transform()도 제공"
   ]
  },
  {
   "cell_type": "markdown",
   "id": "24d348b9-48ef-4d51-99b2-26bfc087e1f7",
   "metadata": {},
   "source": [
    "#### PolynomialFeatures\n",
    "다항 특성을 만들어주는 변환기다.  \n",
    "절편항, 각 특성 항, 각 특성의 제곱항, 특성간 곱항을 지니도록 한다.  \n"
   ]
  },
  {
   "cell_type": "code",
   "execution_count": 9,
   "id": "f675b301-df7e-4c5f-885d-953a42b1ebea",
   "metadata": {},
   "outputs": [
    {
     "name": "stdout",
     "output_type": "stream",
     "text": [
      "[[1. 2. 3. 4. 6. 9.]]\n",
      "[[2. 3. 4. 6. 9.]]\n"
     ]
    }
   ],
   "source": [
    "from sklearn.preprocessing import PolynomialFeatures\n",
    "poly = PolynomialFeatures()\n",
    "poly.fit([[2, 3]])\n",
    "print(poly.transform([[2, 3]]))\n",
    "\n",
    "poly = PolynomialFeatures(include_bias = False) # 절편항 없애기\n",
    "poly.fit([[2, 3]])\n",
    "print(poly.transform([[2, 3]]))"
   ]
  },
  {
   "cell_type": "code",
   "execution_count": 10,
   "id": "c768289c-bfbb-4dfe-b7f9-8974675e6ecc",
   "metadata": {},
   "outputs": [
    {
     "name": "stdout",
     "output_type": "stream",
     "text": [
      "(42, 9)\n"
     ]
    }
   ],
   "source": [
    "# 적용하기\n",
    "poly = PolynomialFeatures(include_bias = False)\n",
    "poly.fit(train_input)\n",
    "train_poly = poly.transform(train_input)\n",
    "print(train_poly.shape)"
   ]
  },
  {
   "cell_type": "code",
   "execution_count": 11,
   "id": "d3072288-6072-43c5-b00e-8f43cde4e8f1",
   "metadata": {},
   "outputs": [
    {
     "data": {
      "text/plain": [
       "array(['x0', 'x1', 'x2', 'x0^2', 'x0 x1', 'x0 x2', 'x1^2', 'x1 x2',\n",
       "       'x2^2'], dtype=object)"
      ]
     },
     "execution_count": 11,
     "metadata": {},
     "output_type": "execute_result"
    }
   ],
   "source": [
    "poly.get_feature_names_out()"
   ]
  },
  {
   "cell_type": "code",
   "execution_count": 12,
   "id": "7737056a-20df-4e01-b026-2051d5b65c03",
   "metadata": {},
   "outputs": [
    {
     "name": "stdout",
     "output_type": "stream",
     "text": [
      "(14, 9)\n"
     ]
    }
   ],
   "source": [
    "test_poly = poly.transform(test_input)\n",
    "print(test_poly.shape)"
   ]
  },
  {
   "cell_type": "markdown",
   "id": "c5d3bba7-63dc-493e-a54e-fce3d1977134",
   "metadata": {},
   "source": [
    "PolynomialFeatures의 fit메서드는 **항 개수** 만 계산한다. ==> 테스트셋에 대해 fit->transform을 호출해도 효과는 같다. 그러나 **훈련 셋에서 값을 계산하는 변환기는 fit을 훈련에만 적용해야함**"
   ]
  },
  {
   "cell_type": "code",
   "execution_count": 14,
   "id": "083a84fc-dfcf-4c11-8b06-699945708863",
   "metadata": {},
   "outputs": [
    {
     "name": "stdout",
     "output_type": "stream",
     "text": [
      "0.9903183436982124\n",
      "0.9714559911594122\n"
     ]
    }
   ],
   "source": [
    "from sklearn.linear_model import LinearRegression\n",
    "\n",
    "lr = LinearRegression()\n",
    "lr.fit(train_poly, train_target)\n",
    "print(lr.score(train_poly, train_target))\n",
    "print(lr.score(test_poly, test_target))\n",
    "      "
   ]
  },
  {
   "cell_type": "markdown",
   "id": "5e7d2d39-bb46-40c6-9af2-f67f400e065a",
   "metadata": {},
   "source": [
    "훈련세트에 대한 성능이 높아져 **과소적합 문제가 일부 해결됨**  "
   ]
  },
  {
   "cell_type": "markdown",
   "id": "0fec9df3-d973-4b4c-a7d1-87f46859e1d4",
   "metadata": {},
   "source": [
    "PolynomialFeatures의 **degree** 매개변수를 조절해 특성을 더 추가할 수 있다.  \n"
   ]
  },
  {
   "cell_type": "code",
   "execution_count": 16,
   "id": "0f02a842-e1d5-40e1-bbcb-cfba6ddc2073",
   "metadata": {},
   "outputs": [
    {
     "name": "stdout",
     "output_type": "stream",
     "text": [
      "(42, 55)\n"
     ]
    }
   ],
   "source": [
    "poly = PolynomialFeatures(degree = 5, include_bias = False)\n",
    "poly.fit(train_input)\n",
    "train_poly = poly.transform(train_input)\n",
    "test_poly = poly.transform(test_input)\n",
    "\n",
    "print(train_poly.shape) # 특성이 55개로 확장된 것을 확인 가능하다."
   ]
  },
  {
   "cell_type": "code",
   "execution_count": 17,
   "id": "8f09aa74-599c-4b63-a2d4-6aa4fb5e599c",
   "metadata": {},
   "outputs": [
    {
     "name": "stdout",
     "output_type": "stream",
     "text": [
      "0.999999999999815\n",
      "-144.40613927891616\n"
     ]
    }
   ],
   "source": [
    "lr.fit(train_poly, train_target)\n",
    "print(lr.score(train_poly, train_target))\n",
    "print(lr.score(test_poly, test_target))"
   ]
  },
  {
   "cell_type": "markdown",
   "id": "bb9c95eb-3077-4028-9890-458aae15846a",
   "metadata": {},
   "source": [
    "훈련세트 성능은 좋아졌는데 테스트 셋 성능이 엄청 나빠짐 == **과대적합**   \n",
    "\n",
    "**중요 : 특성의 개수를 늘리면 훈련세트의 패턴은 완벽하게 파악이 가능하나, 과대적합된다.**"
   ]
  },
  {
   "cell_type": "markdown",
   "id": "81721a54-93d5-42cf-8491-3db5c824ead4",
   "metadata": {},
   "source": [
    "#### 규제\n",
    "모델이 훈련세트를 너무 과도하게 학습하지 못하게 하는 것  \n",
    "선형회귀의 경우 특성에 곱해지는 **계수의 크기**를 작아지게 만든다.  \n",
    "\n",
    "규제를 적용한 대표적인 모델이 **릿지, 라쏘** "
   ]
  },
  {
   "cell_type": "markdown",
   "id": "e464333c-1d51-4422-9a2b-a6f132c5a424",
   "metadata": {},
   "source": [
    "규제를 적용하기 전에 스케일을 맞춰줘야 한다. ( 정규화 )  \n",
    "\n",
    "fit(): 평균, 표준편차 계산 -> 훈련 세트에만 적용  \n",
    "transform(): 계산한 평균, 표준편차를 이용해 데이터 변환"
   ]
  },
  {
   "cell_type": "code",
   "execution_count": 18,
   "id": "07ffb3e5-f99f-4a42-a07c-1d83f4bb3c11",
   "metadata": {},
   "outputs": [],
   "source": [
    "from sklearn.preprocessing import StandardScaler\n",
    "\n",
    "ss = StandardScaler()\n",
    "ss.fit(train_poly)\n",
    "\n",
    "train_scaled = ss.transform(train_poly)\n",
    "test_scaled = ss.transform(test_poly)"
   ]
  },
  {
   "cell_type": "code",
   "execution_count": 23,
   "id": "160a6f54-d844-449b-b70e-061eb925c865",
   "metadata": {},
   "outputs": [
    {
     "name": "stdout",
     "output_type": "stream",
     "text": [
      "0.9896101671037343\n",
      "0.9790693977615379\n"
     ]
    }
   ],
   "source": [
    "from sklearn.linear_model import Ridge, Lasso\n",
    "ridge = Ridge()\n",
    "ridge.fit(train_scaled, train_target)\n",
    "print(ridge.score(train_scaled, train_target))\n",
    "print(ridge.score(test_scaled, test_target))"
   ]
  },
  {
   "cell_type": "code",
   "execution_count": 24,
   "id": "1957bcdd-858d-468c-8db6-861851ee71fa",
   "metadata": {},
   "outputs": [
    {
     "name": "stdout",
     "output_type": "stream",
     "text": [
      "0.989789897208096\n",
      "0.9800593698421884\n"
     ]
    }
   ],
   "source": [
    "lasso = Lasso()\n",
    "lasso.fit(train_scaled, train_target)\n",
    "print(lasso.score(train_scaled, train_target))\n",
    "print(lasso.score(test_scaled, test_target))"
   ]
  },
  {
   "cell_type": "markdown",
   "id": "c4e236a8-0664-4153-956c-e53e704a939d",
   "metadata": {},
   "source": [
    "#### Ridge vs Lasso\n",
    "릿지 회귀: 계수 크기를 전체적으로 작게 만듦  \n",
    "라쏘 회귀: 불필요한 특성의 계수값을 0으로 만들어 해당 특성을 제거하는 효과를 만듦  \n",
    "\n",
    "라쏘는 많은 특성들 중에서 중요한 것을 고르는 **특성선택** 방법으로 사용 가능하다.\n",
    "\n",
    "coef_ 속성값에 접근해 계수가 0이 된 특성의 수를 확인 가능하다."
   ]
  },
  {
   "cell_type": "code",
   "execution_count": 25,
   "id": "eac3ce86-b964-4776-b090-f8727343c091",
   "metadata": {},
   "outputs": [
    {
     "name": "stdout",
     "output_type": "stream",
     "text": [
      "42\n"
     ]
    }
   ],
   "source": [
    "print(np.sum(lasso.coef_ == 0))"
   ]
  },
  {
   "cell_type": "markdown",
   "id": "34bf01b8-1838-48f5-a7a2-39e67902b72d",
   "metadata": {},
   "source": [
    "---"
   ]
  },
  {
   "cell_type": "markdown",
   "id": "9311ccc1-594e-4f48-9221-1ab1a07ba6b9",
   "metadata": {},
   "source": [
    "1. a, b, c 특성으로 이루어진 훈련 세트를 PolynomialFeatures(degree=3)으로 변환하였다. 다음 중 이 변환된 데이터에 포함되지 않는 특성은 무엇일까?  (4)  \n",
    "(1) 1 (2) a (3) a*b (4) a * b ^ 3\n",
    "\n",
    "\n",
    "2. 다음 중 특성을 표준화하는 사이킷런 변환기 클래스는 무엇일까?  (3)  \n",
    "(1) Ridge (2) Lasso (3) StandardScaler (4) LinearRegression\n",
    "\n",
    "\n",
    "3. 다음 중 과대적합과 과소적합을 올바르게 표현하지 않은 것은?  (2)   \n",
    "(1) 과대적합 모델은 훈련 세트 점수가 높다.  \n",
    "(2) 과대적합 모델은 테스트 세트 점수도 높다.  \n",
    "(3) 과소적합 모델은 훈련 세트 점수가 낮다.  \n",
    "(4) 과소적합 모델은 테스트 세트 점수도 낮다.  "
   ]
  },
  {
   "cell_type": "code",
   "execution_count": null,
   "id": "be775a28-d619-4736-9b4e-0b7f7d7f8521",
   "metadata": {},
   "outputs": [],
   "source": []
  }
 ],
 "metadata": {
  "kernelspec": {
   "display_name": "ai-2024",
   "language": "python",
   "name": "ai-2024"
  },
  "language_info": {
   "codemirror_mode": {
    "name": "ipython",
    "version": 3
   },
   "file_extension": ".py",
   "mimetype": "text/x-python",
   "name": "python",
   "nbconvert_exporter": "python",
   "pygments_lexer": "ipython3",
   "version": "3.13.0"
  }
 },
 "nbformat": 4,
 "nbformat_minor": 5
}
